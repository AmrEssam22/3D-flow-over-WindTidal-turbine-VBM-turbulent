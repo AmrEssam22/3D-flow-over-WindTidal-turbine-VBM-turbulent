{
 "cells": [
  {
   "cell_type": "markdown",
   "metadata": {},
   "source": [
    "# CFD Results Post-Process & Validation\n",
    "\n",
    "**The final step for the development of a CFD simulation for a problem of interest is to process and examine the validity of the obtained numerical results (a.k.a post-processing and validation step). These steps requires an in-depth engineering knowledge about the fundamentals of the physical problem of interest. Thus, the value of investing time in understanding the fundamental physics of the flow, once again is highlighted here. This process is done starting from general inspection on CFD simulation results and ends with more detail validation process.**\n",
    "\n",
    "\n",
    "# General Recommended Structure for Writing Post_Process File\n",
    "\n",
    "In this section the results for simulation of flow over the NREL Phase VI wind turbine will be presented, discussed and experimentally validated. It should be noted that the post-processing and validation of all simulations with different turbine operating conditions (different Re or TSR) would be similar to the presented procedure here. The first general rule of thumb to check the convergence of a CFD simulation is to visualize the residuals of key flow field variables, such as continuity, momentum, velocity and etc.. In FLUENT once user starts to run the simulation, the Residual values for the relative variables, based on the choices of models, are visualized in the solver window. Furthermore, users can manage details of the plotted residuals or add other residuals to be visualized via <span style=style=\"background-color:lightgrey;\">plot/residuals</span>.\n",
    "\n",
    "<img src=\"./Images/Re_50_Residuals.png\" width=\"500\">\n",
    "</br>\n",
    "Fig.1 - Residuals of continuity and streamwise velocity for simulation of flow over a cylinder with Re=50.\n",
    "\n",
    "Fig. 1 visualizes the residual values of continuity and streamwise velocity (i.e. velocity in y-direction) versus the number of iterations. The general decreasing trend of the residual values confirms that the numerical solution of the conservation/governing equations are converging to specific final values. As a rule of thumb reaching the continuity residual of 10E-3 is the first necessary but not sufficient general criteria to confirm the convergence of the CFD simulation. In this study case this criteria is reached after about XYZ iterations and after about XYZ iterations the continuity residuals reached value of 1E-XYZ, which is a solid necessary confirmation of CFD simulation convergence. Users can also define criteria to stop the iteration process once the desired criteria is met during the iteration process. For the case study of TSR= the iterations were stopped after XYZ iterations as shown in Fig. 1.\n",
    "\n",
    "The second step is to visualize dimensionless form of the important variables within the CFD domain. This visualization step can be problem specific and should be performed over an adequate plane of choice. For most of the problems contour of normalized velocity or pressure, over a horizontal or vertical plane at the center of the CFD domain, is a good start point. The path to define an adequate visualization probe such as planes or lines is <span style=style=\"background-color:lightgrey;\">surface/plane-bounded</span>. With this path a user can define various type of surface probes to visualize the obtained numerical results over them. For the current case study an iso-surface with $x$-axis as it's normal is defined using the path <span style=style=\"background-color:lightgrey;\"></span>. This iso-surface is parallel to the streamwise flow direction and will provide user the capability of visualizing different variables contours within the CFD domain from inlet to the outlet, while going through the center of the turbine rotor zone. Since in VBM the flow field is steady and the rotation effect of the turbine is being averaged, it is expected to have an axis-symmetric flow. Meaning that the flow field contour on any other iso-surfaces will be identical.\n",
    "\n",
    "User should now define the normalized variable of interest that needs to be visualized. The normalized streamwise velocity by the inlet velocity can be defined using <span style=style=\"background-color:lightgrey;\">define/custom-field-functions/define</span>, name the variable (e.g. normalized_streamwise_velocity)and put the required formula for the variable of interest with correct syntax under <span style=style=\"background-color:lightgrey;\">y_velocity/6.8</span>. This will define and calculate the normalized streamwise velocity with free stream velocity ($6.8 \\frac{m}{s}$) within entire CFD domain. It order to visualize the defined normalized flow field variable in the previous step users should use <span style=style=\"background-color:lightgrey;\">display/contour/normalized_streamwise_velocity</span> and set the range of [0,1.2] to visualize the normalized velocity contours and it's legend as shown in figure 2:.\n",
    "\n",
    "<img src=\"./Images/vel_field.png\" width=\"700\" align=\"middle\">\n",
    "Fig.2 - Contours of normalized streamwise velocity with the free stream velocity over the NREL Phase VI wind turbine.\n",
    "\n",
    "Fig. 2 shows that the that as the flow approaches the simulated turbine's rotating blades via VBM it starts to decelerate. The turbine would extract momentum, via imposed sink of momentum, from the flow and produce a turbulent wake and velocity deficit inside it. The velocity deficit is maximum in the near wake region and become less intensive as the flow moves further downstream. This wake recovery process is due to the turbulent mixing inside the wake and momentum exchange with the free stream flow around the wake. Furthermore, Fig. 2 confirms that the VBM can not capture the detail of the flow right after the blade in near wake region since it is averaging the aerodynamic effects of the blade over the whole area of the disk. Therefore, the turbulent wake has an axi-symmetric shape from the beginning after passing the blade. Another interesting phenomena is in the modeling of the vortex shedding at the tip of the blade by VBM. The VBM captures this phenomena in the form of a continuous crown, which again is a result of averaging the blade effect. Javaherchi et. al. [2] provide a complete comparison between VBM and other numerical models with higher and lower fidelity in [1].\n",
    "\n",
    "**After performing the general post-processing steps, the user need to perform more detail oriented post-processing to confirm the validity of the CFD simulation. This stage can be a state-of-the-art. Comparing the numerical results against the theory (discussed earlier) or any other available experimental results is the final stage of post-processing. It is extremely important to calculate the correct corresponding numerical variables and compare them against the experimental or other numerical data.**\n",
    "\n",
    "For the NREL Phase VI turbine Hand et. al. [1]  provided the measured power production via the turbine at different operating conditions. The VBM report the value of numerical power extracted from the flow via turbine after each iteration. Therefore, the numerical and corresponding experimental values are compared against each other as shown in Table 1. This comparison reveals that the VBM could predict the overall power produced by the flow in close agreement against the experimental results. Unfortunately, there is no wake data available for the NREL Phase VI turbine to validate these simulations furthermore. Interested reader are referred to Javaherchi et. al. [2] for more precise evaluation of the VBM simulating the flow field and performance of the NREL Phase VI wind turbine. \n",
    "\n",
    "| $P_{Experiment}$ [kW]|$P_{CFD-VBM}$ [kW]| Relative Error [%]|\n",
    "|:----------------------:|:----------------:|:-----------------:|\n",
    "| 5.53  |5.40|2.35|\n",
    "\n",
    "At this stage one can conclude that this CFD numerical simulation is validated to study steady laminar flow over a cylinder. Therefore, these simulations can be used for similar or more complex problems, such as unsteady flow over a cylinder or three dimensional laminar steady or unsteady flow over a sphere. This can be done via correct implementation in changing the corresponding solver, models and/or boundary conditions.\n",
    "\n",
    "## Cite Source(s)\n",
    "\n",
    "> [1] Hierarchical methodology for the numerical simulation of the flow field around and in the wake of horizontal axis wind turbines: Rotating reference frame, blade element method and actuator disk model, T. Javaherchi, S. Antheaume, A. Aliseda, Wind Engineering, 38(2):181-201, 2014. \n",
    "[Download Paper Here!](http://wie.sagepub.com/content/38/2/181.short)\n",
    "\n",
    "> [2] Hand M. and Jager D. Cotrell J. Schreck S. Larwood S. Simms D., Fingersh L. Unsteady aerodynamics experiment phase 6: Wind tunnel test configurations and available data campaigns. Technical report, National Renewable Energy Laboratory (NREL), 2001."
   ]
  }
 ],
 "metadata": {
  "kernelspec": {
   "display_name": "Python 3",
   "language": "python",
   "name": "python3"
  },
  "language_info": {
   "codemirror_mode": {
    "name": "ipython",
    "version": 3
   },
   "file_extension": ".py",
   "mimetype": "text/x-python",
   "name": "python",
   "nbconvert_exporter": "python",
   "pygments_lexer": "ipython3",
   "version": "3.5.2"
  }
 },
 "nbformat": 4,
 "nbformat_minor": 0
}
