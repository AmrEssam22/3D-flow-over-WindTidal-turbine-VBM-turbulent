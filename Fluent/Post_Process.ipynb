{
 "cells": [
  {
   "cell_type": "markdown",
   "metadata": {},
   "source": [
    "# CFD Results Post-Process & Validation\n",
    "\n",
    "**The final step for the development of a CFD simulation for a problem of interest is to process and examine the validity of the obtained numerical results (a.k.a post-processing and validation step). These steps requires an in-depth engineering knowledge about the fundamentals of the physical problem of interest. Thus, the value of investing time in understanding the fundamental physics of the flow, once again is highlighted here. This process is done starting from general inspection on CFD simulation results and ends with more detail validation process.**\n",
    "\n",
    "In this section the results for simulation of flow over the NREL Phase VI wind turbine using the Virtual Blade Model (VBM) is presented, discussed and experimentally validated. It should be noted that the post-processing and validation of all simulations with different turbine operating conditions, different Re and TSR, would be similar to the presented general methodological procedure presented here. The first general rule of thumb to check the convergence of a CFD simulation is to visualize the residuals of the key flow field variables, such as continuity, momentum, velocity and etc.. In FLUENT once user starts to run the simulation, the Residual values for the relative variables, based on the choices of models, are visualized in the solver window. Furthermore, users can manage details of the plotted residuals or add other residuals to be visualized via <span style=style=\"background-color:lightgrey;\">plot/residuals</span>.\n",
    "\n",
    "<img src=\"./Images/Residuals.png\" width=\"600\">\n",
    "</br>\n",
    "Fig.1 - Residuals of continuity and streamwise velocity for simulation of flow over simulated NREL Phase VI wind turbine.\n",
    "\n",
    "Fig. 1 visualizes the residual values of continuity, streamwise velocity (i.e. velocity in negative y-direction) and turbulent viscosity (nu) versus the number of iterations. The general decreasing trend of the residual values confirms that the numerical solution of the conservation/governing equations are converging to specific final values. As a rule of thumb reaching the continuity residual of 10E-3 is the first necessary but not sufficient general criteria to confirm the convergence of the CFD simulation. In this study case this criteria is reached after about 800 iterations. Furthermore, after about 800 iterations the streamwise velocity and turbulent viscosity residuals reached value of 10E-5, which is a solid necessary confirmation of CFD simulation convergence. Users can also define criteria to stop the iteration process once the desired criteria is met during the iteration process. For the current case study the iterations were stopped after 800 iterations as shown in Fig. 1.\n",
    "\n",
    "The second step is to visualize dimensionless form of the important flow field variables within the CFD domain. This visualization step can be problem specific and should be performed over an adequate plane of choice. For most of the problems contour of normalized velocity or pressure, over a horizontal or vertical plane at the center of the CFD domain, is a good start point. The path to define an adequate visualization probe such as planes or lines is <span style=style=\"background-color:lightgrey;\">surface/plane-bounded</span>. With this path a user can define various type of surface probes to visualize the obtained numerical results over them. For the current case study an iso-surface with $x$-axis as it's normal is defined using the path <span style=style=\"background-color:lightgrey;\"></span>. This iso-surface is located at $x=0$ in the heart of the CFD domain and is parallel to the streamwise flow direction. This choice will provide user the capability of visualizing different variables contours within the CFD domain from inlet to the outlet, while going through the center of the turbine rotor zone. Since in VBM the flow field is steady and the rotation effect of the turbine is being averaged, it is expected to have an axissymmetric flow. Meaning that the flow field contour on any other iso-surfaces will be identical.\n",
    "\n",
    "User should now define the normalized variable of interest that needs to be visualized. The normalized streamwise velocity by the inlet velocity can be defined using <span style=style=\"background-color:lightgrey;\">define/custom-field-functions/define</span>, name the variable (e.g. normalized_streamwise_velocity) and put the required formula for the variable of interest with correct syntax under <span style=style=\"background-color:lightgrey;\">y_velocity/6.8</span>. This will define and calculate the normalized streamwise velocity with free stream velocity ($6.8 \\frac{m}{s}$) within entire CFD domain. It order to visualize the defined normalized flow field variable in the previous step users should use <span style=style=\"background-color:lightgrey;\">display/contour/normalized_streamwise_velocity</span> and set the range of [0,1.2] to visualize the normalized velocity contours and it's legend as shown in figure 2:.\n",
    "\n",
    "<img src=\"./Images/vel_field.png\" width=\"700\" align=\"middle\">\n",
    "Fig.2 - Contours of normalized streamwise velocity with the free stream velocity over the simulated NREL Phase VI wind turbine.\n",
    "\n",
    "Fig. 2 shows that as the flow approaches the simulated turbine's rotating blades, via VBM, it starts to decelerate. The turbine would extract momentum, via imposed sink of momentum on the rotor zone volume, from the flow and produce a turbulent wake and velocity deficit inside it. The velocity deficit is maximum in the near wake region and become less intensive as the flow moves further downstream. The wake recovery process is due to the turbulent mixing inside the wake and also leads to momentum exchange with the free stream flow around the wake at the shear layers formed close to the tip of the turbine blade. Furthermore, Fig. 2 confirms that the VBM can not capture the detail of the flow right after the blade in near wake region. This is due to averaging the aerodynamic effects of the blade over the whole area of the disk in VBM. Therefore, the turbulent wake has an axisymmetric shape from the beginning after passing the blade. Another interesting phenomena is in the modeling of the vortex shedding at the tip of the blade via VBM. The VBM captures this phenomena in the form of a continuous crown, which again is a result of averaging the blade effect. Javaherchi et. al. [1] provide a complete comparison between VBM and other numerical models with higher and lower fidelity.\n",
    "\n",
    "**After performing the general post-processing steps, the user need to perform more detail oriented post-processing to confirm the validity of the CFD simulation. This stage can be a state-of-the-art. Comparing the numerical results against the theory (discussed earlier) or any other available experimental results is the final stage of post-processing. It is extremely important to calculate the correct corresponding numerical variables and compare them against the experimental or other numerical data.**\n",
    "\n",
    "For the NREL Phase VI turbine Hand et. al. [2]  provided the measured power production via the turbine at different operating conditions. The VBM also reports the estimated value of the numerical power extracted from the flow via turbine after each iteration. Therefore, the numerical and corresponding experimental values are compared against each other to check the validity of the VBM as shown in Table 1. The provide comparison in Table 1 reveals that the VBM could predict the overall power produced from the flow is in close agreement with the experimental results with less than 3 [%] relative error. Unfortunately, there is no wake data available for the NREL Phase VI turbine to validate the numerically estimated flow field around and in the wake of the NREL Phase VI in these simulations. However, Javaherchi et. al. [2] performed more precise evaluation of the VBM simulating the flow field and performance of the NREL Phase VI wind turbine.\n",
    "\n",
    "| $P_{Experiment}$ [kW]|$P_{CFD-VBM}$ [kW]| Relative Error [%]|\n",
    "|:----------------------:|:----------------:|:-----------------:|\n",
    "| 5.53  |5.40|2.35|\n",
    "\n",
    "At this stage one can conclude that this CFD numerical simulation is validated to study steady flow over the NREL Phase VI wind turbine at specific operating conditions. Therefore, these simulations can be used for similar or more complex problems, such as other turbine operating conditions, array of these turbines or examine similar models of these turbines. This can be done via correct implementation in changing the corresponding solver, models and/or boundary conditions.\n",
    "\n",
    "## Cite Source(s)\n",
    "\n",
    "> [1] Hierarchical methodology for the numerical simulation of the flow field around and in the wake of horizontal axis wind turbines: Rotating reference frame, blade element method and actuator disk model, T. Javaherchi, S. Antheaume, A. Aliseda, Wind Engineering, 38(2):181-201, 2014. \n",
    "[Download Paper Here!](http://wie.sagepub.com/content/38/2/181.short)\n",
    "\n",
    "> [2] Hand M. and Jager D. Cotrell J. Schreck S. Larwood S. Simms D., Fingersh L. Unsteady aerodynamics experiment phase 6: Wind tunnel test configurations and available data campaigns. Technical report, National Renewable Energy Laboratory (NREL), 2001."
   ]
  },
  {
   "cell_type": "code",
   "execution_count": null,
   "metadata": {
    "collapsed": true
   },
   "outputs": [],
   "source": []
  }
 ],
 "metadata": {
  "kernelspec": {
   "display_name": "Python 3",
   "language": "python",
   "name": "python3"
  },
  "language_info": {
   "codemirror_mode": {
    "name": "ipython",
    "version": 3
   },
   "file_extension": ".py",
   "mimetype": "text/x-python",
   "name": "python",
   "nbconvert_exporter": "python",
   "pygments_lexer": "ipython3",
   "version": "3.5.2"
  }
 },
 "nbformat": 4,
 "nbformat_minor": 0
}
