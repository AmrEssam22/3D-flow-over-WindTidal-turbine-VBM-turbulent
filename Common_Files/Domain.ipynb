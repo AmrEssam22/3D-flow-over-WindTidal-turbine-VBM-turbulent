{
 "cells": [
  {
   "cell_type": "markdown",
   "metadata": {},
   "source": [
    "# CFD Domain's Creation & Discretization\n",
    "\n",
    "** The next step for developing the CFD simulation for a case study, after the review of physics and theory behind the problem of interest, is to create the CFD/Computational domain. This CFD domain will first be created and then discretized into small finite elements (2D) or finite volumes (3D). The flow field's governing equations are then solved numerically inside these finite elements or volumes via an iterative process till a converged solution inside the entire CFD domain is obtained. It should be highlighted that this section provides the most generic steps and techniques to create and discretize the CFD domain. Users can implement these steps/techniques in the mesher of their choice or download the pre-generated * .msh file from the \"Simulation_Src\" folder. **\n",
    "\n",
    "> **_In simple words: Current tutorial teaches users to fish, rather than giving them a fish._**\n",
    "\n",
    "In this section the general methodology to create the CFD computational domain for modeling a horizontal axis wind turbine using VBM in ANSYS FLUENT is presented and discussed. It should be noted that the provided methodology is comprehensive and not a function of type of the turbine or it's geometrical specifications. Therefore, the provided methodology can be used to create similar CFD domains for modeling a horizontal axis tidal turbine and also horizontal axis propellers (i.e. helicopter blades).\n",
    "\n",
    "<The step by step procedure of mesh creation can be inserted here.>\n",
    "\n",
    "Fig. 1 visualizes the raw geometry of the CFD domain created to model the performance and flow field around the two bladed NREL Phase VI horizontal axis wind turbine [1]. \n",
    "\n",
    "<img src=\"./Images/VBM_domain.png\" width=\"700\">\n",
    "Fig. 1 - The raw geometry of the CFD domain to simulate the performance and flow field of NREL Phase VI wind turbine.\n",
    "\n",
    "From a broad prospective the visualized CFD domain in Fig. 1 consists of three main sections:\n",
    "\n",
    "#### 1. The most inner section being a long small cylinder forming the volumes and hugging the hub section of turbine's rotor zone volume. It should be noted that due to the very complex geometry NREL Phase VI hub section, this part is excluded from the CFD domain using a long hollow cylinder.\n",
    "\n",
    "#### 2. The inner section being is a long medium cylinder forming volumes and hugging the specified rotor zone volume, highlighted with gray color in Fig. 1. This rotor zone is one of the most important part of the CFD domain, since it takes into account and simulates the effect of the turbine's rotating blades. This zone is a finite cylindrical volume with outer radius equal to the radius of the turbine blade and inner radius equal to the radius of turbine's hub. The sink/source of momentum that will be calculated and placed in the governing flow field equations (as discussed in Physics section). It is extremely important that the front face of this finite volume should be defined as a full 360 [deg] circle. Later on during the simulation development step the geometrical details of the turbine will be places and defined on top of this face. Users are highly advised to write down the coordinates for the center of this face and it's minimum and maximum radii. These exact numerical values are needed during the setup of the simulations.\n",
    "\n",
    "#### 3. The most outer section being again a long large cylinder forming the rest of the volumes inside the domain and representing it's boundaries' limits.\n",
    "\n",
    "Users should note that the dimensions of the rotor zone and rest of the volumes in this CFD domain is problem specific. In this specific example the dimensions of the rotor zone is set based on the dimensions of the NREL Phase VI wind turbine with radius of 5 [m]. The dimension of the CFD domain is set based on the desired blockage ratio of 11[%] with 9 rotor radii (9R) distance upstream and 13.5 rotor radii (13.5R) distance downstream the turbine rotor zone. These dimensions and shape of the most outer volumes can be change according to problem specifications.\n",
    "\n",
    "The mesh resolution to discretize the created CFD domain is also a problem specific variable. VBM showed minor sensitivity to the mesh resolution. It has capability of providing accurate results with reasonably coarse mesh. Users are advised to use the concept of auxiliary faces inside the CFD domain and around the rotor zone to have the capability of controlling the mesh resolution. One main recommendation is to have a relatively fine mesh right upstream and also downstream of the turbine to capture the in- and outflow of the rotor zone accurately. This approach and rule of thumb was used for the current CFD domain. On averaged one mesh elements per each centimeter in length was considered in the meshing of the domain. The total number of mesh elements end up to be 1.65 million. More details for reasoning behind this CFD domain dimensions and mesh resolution can be found in [2](http://wie.sagepub.com/content/38/2/181.short).\n",
    "\n",
    "## Cite Source(s)\n",
    "\n",
    "> [1] Hand M. and Jager D. Cotrell J. Schreck S. Larwood S. Simms D., Fingersh L. Unsteady aerodynamics experiment phase 6: Wind tunnel test configurations and available data campaigns. Technical report, National Renewable Energy Laboratory (NREL), 2001.\n",
    "\n",
    "> [2] Hierarchical methodology for the numerical simulation of the flow field around and in the wake of horizontal axis wind turbines: Rotating reference frame, blade element method and actuator disk model, T. Javaherchi, S. Antheaume, A. Aliseda, Wind Engineering, 38(2):181-201, 2014. \n",
    "[Download Paper Here!](http://wie.sagepub.com/content/38/2/181.short)"
   ]
  },
  {
   "cell_type": "code",
   "execution_count": null,
   "metadata": {
    "collapsed": true
   },
   "outputs": [],
   "source": []
  }
 ],
 "metadata": {
  "kernelspec": {
   "display_name": "Python 3",
   "language": "python",
   "name": "python3"
  },
  "language_info": {
   "codemirror_mode": {
    "name": "ipython",
    "version": 3
   },
   "file_extension": ".py",
   "mimetype": "text/x-python",
   "name": "python",
   "nbconvert_exporter": "python",
   "pygments_lexer": "ipython3",
   "version": "3.5.2"
  }
 },
 "nbformat": 4,
 "nbformat_minor": 0
}
